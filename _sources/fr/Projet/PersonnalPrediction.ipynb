{
 "cells": [
  {
   "attachments": {},
   "cell_type": "markdown",
   "metadata": {},
   "source": [
    "# On va essayer de faire un systeme de recommendation en fonction de l'utilisateur de de ces 15 premiers choix"
   ]
  },
  {
   "attachments": {},
   "cell_type": "markdown",
   "metadata": {},
   "source": [
    "### On import d'abord les données des images"
   ]
  },
  {
   "cell_type": "code",
   "execution_count": 54,
   "metadata": {},
   "outputs": [
    {
     "data": {
      "text/html": [
       "<div>\n",
       "<style scoped>\n",
       "    .dataframe tbody tr th:only-of-type {\n",
       "        vertical-align: middle;\n",
       "    }\n",
       "\n",
       "    .dataframe tbody tr th {\n",
       "        vertical-align: top;\n",
       "    }\n",
       "\n",
       "    .dataframe thead th {\n",
       "        text-align: right;\n",
       "    }\n",
       "</style>\n",
       "<table border=\"1\" class=\"dataframe\">\n",
       "  <thead>\n",
       "    <tr style=\"text-align: right;\">\n",
       "      <th></th>\n",
       "      <th>theme</th>\n",
       "      <th>image</th>\n",
       "      <th>width</th>\n",
       "      <th>height</th>\n",
       "      <th>format</th>\n",
       "      <th>orientation</th>\n",
       "      <th>color_0</th>\n",
       "      <th>color_1</th>\n",
       "      <th>color_2</th>\n",
       "      <th>color_3</th>\n",
       "      <th>color_4</th>\n",
       "      <th>red</th>\n",
       "      <th>green</th>\n",
       "      <th>blue</th>\n",
       "    </tr>\n",
       "  </thead>\n",
       "  <tbody>\n",
       "    <tr>\n",
       "      <th>0</th>\n",
       "      <td>Exoplanet</td>\n",
       "      <td>55_Cancri_b.jpg</td>\n",
       "      <td>1024</td>\n",
       "      <td>768</td>\n",
       "      <td>PNG</td>\n",
       "      <td>no exif</td>\n",
       "      <td>darkgrey</td>\n",
       "      <td>black</td>\n",
       "      <td>black</td>\n",
       "      <td>black</td>\n",
       "      <td>black</td>\n",
       "      <td>5.124176</td>\n",
       "      <td>8.128027</td>\n",
       "      <td>23.954838</td>\n",
       "    </tr>\n",
       "    <tr>\n",
       "      <th>1</th>\n",
       "      <td>Exoplanet</td>\n",
       "      <td>Gliese_876_e.jpg</td>\n",
       "      <td>1587</td>\n",
       "      <td>919</td>\n",
       "      <td>PNG</td>\n",
       "      <td>no exif</td>\n",
       "      <td>black</td>\n",
       "      <td>darkgrey</td>\n",
       "      <td>darkgrey</td>\n",
       "      <td>black</td>\n",
       "      <td>darkgrey</td>\n",
       "      <td>24.409671</td>\n",
       "      <td>34.521034</td>\n",
       "      <td>47.234119</td>\n",
       "    </tr>\n",
       "    <tr>\n",
       "      <th>2</th>\n",
       "      <td>Exoplanet</td>\n",
       "      <td>XO-3b.jpg</td>\n",
       "      <td>800</td>\n",
       "      <td>500</td>\n",
       "      <td>JPEG</td>\n",
       "      <td>no exif</td>\n",
       "      <td>black</td>\n",
       "      <td>brown</td>\n",
       "      <td>lightgrey</td>\n",
       "      <td>red</td>\n",
       "      <td>darkgrey</td>\n",
       "      <td>60.236171</td>\n",
       "      <td>21.336108</td>\n",
       "      <td>12.281942</td>\n",
       "    </tr>\n",
       "    <tr>\n",
       "      <th>3</th>\n",
       "      <td>Exoplanet</td>\n",
       "      <td>OGLE-2005-BLG-169Lb.jpg</td>\n",
       "      <td>1271</td>\n",
       "      <td>746</td>\n",
       "      <td>JPEG</td>\n",
       "      <td>no exif</td>\n",
       "      <td>black</td>\n",
       "      <td>darkgrey</td>\n",
       "      <td>darkgrey</td>\n",
       "      <td>grey</td>\n",
       "      <td>black</td>\n",
       "      <td>10.126329</td>\n",
       "      <td>9.245700</td>\n",
       "      <td>8.338099</td>\n",
       "    </tr>\n",
       "    <tr>\n",
       "      <th>4</th>\n",
       "      <td>Exoplanet</td>\n",
       "      <td>Kepler-242b.jpg</td>\n",
       "      <td>1980</td>\n",
       "      <td>1200</td>\n",
       "      <td>JPEG</td>\n",
       "      <td>no exif</td>\n",
       "      <td>black</td>\n",
       "      <td>brown</td>\n",
       "      <td>white</td>\n",
       "      <td>brown</td>\n",
       "      <td>darkgrey</td>\n",
       "      <td>36.780423</td>\n",
       "      <td>15.952044</td>\n",
       "      <td>13.286230</td>\n",
       "    </tr>\n",
       "  </tbody>\n",
       "</table>\n",
       "</div>"
      ],
      "text/plain": [
       "       theme                    image  width  height format orientation  \\\n",
       "0  Exoplanet          55_Cancri_b.jpg   1024     768    PNG     no exif   \n",
       "1  Exoplanet         Gliese_876_e.jpg   1587     919    PNG     no exif   \n",
       "2  Exoplanet                XO-3b.jpg    800     500   JPEG     no exif   \n",
       "3  Exoplanet  OGLE-2005-BLG-169Lb.jpg   1271     746   JPEG     no exif   \n",
       "4  Exoplanet          Kepler-242b.jpg   1980    1200   JPEG     no exif   \n",
       "\n",
       "    color_0   color_1    color_2 color_3   color_4        red      green  \\\n",
       "0  darkgrey     black      black   black     black   5.124176   8.128027   \n",
       "1     black  darkgrey   darkgrey   black  darkgrey  24.409671  34.521034   \n",
       "2     black     brown  lightgrey     red  darkgrey  60.236171  21.336108   \n",
       "3     black  darkgrey   darkgrey    grey     black  10.126329   9.245700   \n",
       "4     black     brown      white   brown  darkgrey  36.780423  15.952044   \n",
       "\n",
       "        blue  \n",
       "0  23.954838  \n",
       "1  47.234119  \n",
       "2  12.281942  \n",
       "3   8.338099  \n",
       "4  13.286230  "
      ]
     },
     "execution_count": 54,
     "metadata": {},
     "output_type": "execute_result"
    }
   ],
   "source": [
    "import pandas as pd\n",
    "import os\n",
    "\n",
    "# Load the data\n",
    "dir1 = \"images\"\n",
    "dir2 = \"ExifDatatest.json\"\n",
    "dir = os.path.join(dir1, dir2)\n",
    "data = pd.read_json(dir)\n",
    "\n",
    "data.head()\n"
   ]
  },
  {
   "attachments": {},
   "cell_type": "markdown",
   "metadata": {},
   "source": [
    "### On cree le systemes de recherche d'images aléatoires dans nos images"
   ]
  },
  {
   "cell_type": "code",
   "execution_count": 55,
   "metadata": {},
   "outputs": [
    {
     "data": {
      "text/plain": [
       "'voltorb.png'"
      ]
     },
     "execution_count": 55,
     "metadata": {},
     "output_type": "execute_result"
    }
   ],
   "source": [
    "import random\n",
    "\n",
    "def randomImage():\n",
    "    dir1 = \"images\"\n",
    "    themes = [\"Exoplanet\", \"Moto\", \"Pokemon\", \"Voitures\"]\n",
    "    dir2 = random.choice(themes)\n",
    "    dir = os.path.join(dir1, dir2)\n",
    "    files = os.listdir(dir)\n",
    "    files.remove(\".DS_Store\")\n",
    "    file = random.choice(files)\n",
    "    return file\n",
    "\n",
    "randomImage()\n"
   ]
  },
  {
   "attachments": {},
   "cell_type": "markdown",
   "metadata": {},
   "source": [
    "### Création de tout le nécessaire pour enregistrer les choix de l'utilisateur"
   ]
  },
  {
   "cell_type": "code",
   "execution_count": 56,
   "metadata": {},
   "outputs": [
    {
     "data": {
      "text/html": [
       "<div>\n",
       "<style scoped>\n",
       "    .dataframe tbody tr th:only-of-type {\n",
       "        vertical-align: middle;\n",
       "    }\n",
       "\n",
       "    .dataframe tbody tr th {\n",
       "        vertical-align: top;\n",
       "    }\n",
       "\n",
       "    .dataframe thead th {\n",
       "        text-align: right;\n",
       "    }\n",
       "</style>\n",
       "<table border=\"1\" class=\"dataframe\">\n",
       "  <thead>\n",
       "    <tr style=\"text-align: right;\">\n",
       "      <th></th>\n",
       "      <th>theme</th>\n",
       "      <th>image</th>\n",
       "      <th>width</th>\n",
       "      <th>height</th>\n",
       "      <th>format</th>\n",
       "      <th>orientation</th>\n",
       "      <th>color_0</th>\n",
       "      <th>color_1</th>\n",
       "      <th>color_2</th>\n",
       "      <th>color_3</th>\n",
       "      <th>color_4</th>\n",
       "      <th>red</th>\n",
       "      <th>green</th>\n",
       "      <th>blue</th>\n",
       "      <th>choice</th>\n",
       "    </tr>\n",
       "  </thead>\n",
       "  <tbody>\n",
       "  </tbody>\n",
       "</table>\n",
       "</div>"
      ],
      "text/plain": [
       "Empty DataFrame\n",
       "Columns: [theme, image, width, height, format, orientation, color_0, color_1, color_2, color_3, color_4, red, green, blue, choice]\n",
       "Index: []"
      ]
     },
     "execution_count": 56,
     "metadata": {},
     "output_type": "execute_result"
    }
   ],
   "source": [
    "import pandas as pd\n",
    "col = list(data.columns) + [\"choice\"]\n",
    "data_user = pd.DataFrame(columns=col)\n",
    "data_user"
   ]
  },
  {
   "attachments": {},
   "cell_type": "markdown",
   "metadata": {},
   "source": [
    "### Récuperation des 15 premiers choix de l'utilisateur"
   ]
  },
  {
   "cell_type": "code",
   "execution_count": 94,
   "metadata": {},
   "outputs": [
    {
     "name": "stdout",
     "output_type": "stream",
     "text": [
      "Empty DataFrame\n",
      "Columns: [theme, image, width, height, format, orientation, color_0, color_1, color_2, color_3, color_4, red, green, blue]\n",
      "Index: []\n",
      "turtwig.png\n"
     ]
    },
    {
     "ename": "IndexError",
     "evalue": "index 0 is out of bounds for axis 0 with size 0",
     "output_type": "error",
     "traceback": [
      "\u001b[0;31m---------------------------------------------------------------------------\u001b[0m",
      "\u001b[0;31mIndexError\u001b[0m                                Traceback (most recent call last)",
      "Cell \u001b[0;32mIn[94], line 11\u001b[0m\n\u001b[1;32m      9\u001b[0m random_img \u001b[39m=\u001b[39m randomImage()\n\u001b[1;32m     10\u001b[0m \u001b[39mprint\u001b[39m(random_img)\n\u001b[0;32m---> 11\u001b[0m img_path \u001b[39m=\u001b[39m os\u001b[39m.\u001b[39mpath\u001b[39m.\u001b[39mjoin(dir1, data\u001b[39m.\u001b[39;49mloc[data[\u001b[39m'\u001b[39;49m\u001b[39mimage\u001b[39;49m\u001b[39m'\u001b[39;49m] \u001b[39m==\u001b[39;49m random_img][\u001b[39m'\u001b[39;49m\u001b[39mtheme\u001b[39;49m\u001b[39m'\u001b[39;49m]\u001b[39m.\u001b[39;49mvalues[\u001b[39m0\u001b[39;49m], random_img)\n\u001b[1;32m     12\u001b[0m img \u001b[39m=\u001b[39m mpimg\u001b[39m.\u001b[39mimread(img_path)\n\u001b[1;32m     13\u001b[0m imgplot \u001b[39m=\u001b[39m plt\u001b[39m.\u001b[39mimshow(img)\n",
      "\u001b[0;31mIndexError\u001b[0m: index 0 is out of bounds for axis 0 with size 0"
     ]
    }
   ],
   "source": [
    "import os\n",
    "import matplotlib.pyplot as plt\n",
    "import matplotlib.image as mpimg\n",
    "import numpy as np\n",
    "\n",
    "print(data.loc[data['image']=='floatzel.png'])\n",
    "\n",
    "for i in range(15): \n",
    "    random_img = randomImage()\n",
    "    print(random_img)\n",
    "    img_path = os.path.join(dir1, data.loc[data['image'] == random_img]['theme'].values[0], random_img)\n",
    "    img = mpimg.imread(img_path)\n",
    "    imgplot = plt.imshow(img)\n",
    "    plt.show()\n",
    "    user_choice = input(\"Aimez-vous cette image ? (O/N)\")\n",
    "    print(data.loc[data['image'] == random_img].values[0])\n",
    "    data_user.loc[random_img] = np.append(data.loc[data['image'] == random_img].values[0],(user_choice))"
   ]
  }
 ],
 "metadata": {
  "kernelspec": {
   "display_name": "Python 3",
   "language": "python",
   "name": "python3"
  },
  "language_info": {
   "codemirror_mode": {
    "name": "ipython",
    "version": 3
   },
   "file_extension": ".py",
   "mimetype": "text/x-python",
   "name": "python",
   "nbconvert_exporter": "python",
   "pygments_lexer": "ipython3",
   "version": "3.10.10"
  },
  "orig_nbformat": 4
 },
 "nbformat": 4,
 "nbformat_minor": 2
}
