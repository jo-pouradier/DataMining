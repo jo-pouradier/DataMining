{
 "cells": [
  {
   "attachments": {},
   "cell_type": "markdown",
   "metadata": {},
   "source": [
    "# Gestion des recommandations"
   ]
  },
  {
   "attachments": {},
   "cell_type": "markdown",
   "metadata": {},
   "source": [
    "## Recuperation des données"
   ]
  },
  {
   "cell_type": "code",
   "execution_count": null,
   "metadata": {},
   "outputs": [],
   "source": [
    "import json\n",
    "import pandas as pd\n",
    "import numpy as np\n",
    "import os\n",
    "from sklearn.preprocessing import LabelEncoder\n",
    "import random\n",
    "\n",
    "# Load the data\n",
    "dir1 = \"images\"\n",
    "dir2 = \"ExifDatatest.json\"\n",
    "dir = os.path.join(dir1, dir2)\n",
    "\n",
    "data = pd.read_json(dir)\n",
    "data['result'] = random.choices([\"Yes\", \"No\"], k=len(data))\n",
    "print(data.head())\n",
    "print(data.tail())"
   ]
  },
  {
   "attachments": {},
   "cell_type": "markdown",
   "metadata": {},
   "source": [
    "## Labelisation des données"
   ]
  },
  {
   "cell_type": "code",
   "execution_count": null,
   "metadata": {},
   "outputs": [],
   "source": [
    "# on enleve les colonnes inutiles\n",
    "data.drop('orientation', axis=1, inplace=True)\n",
    "data.tail()"
   ]
  },
  {
   "cell_type": "code",
   "execution_count": null,
   "metadata": {},
   "outputs": [],
   "source": [
    "# label encoder\n",
    "themeLabel = LabelEncoder()\n",
    "data['theme'] = themeLabel.fit_transform(data['theme'])\n",
    "imageLabel = LabelEncoder()\n",
    "data['image'] = imageLabel.fit_transform(data['image'])\n",
    "widthLabel = LabelEncoder()\n",
    "data['width'] = widthLabel.fit_transform(data['width'])\n",
    "heightLabel = LabelEncoder()\n",
    "data['height'] = heightLabel.fit_transform(data['height'])\n",
    "formatLabel = LabelEncoder()\n",
    "data['format'] = formatLabel.fit_transform(data['format'])\n",
    "color_0Label = LabelEncoder()\n",
    "data['color_0'] = color_0Label.fit_transform(data['color_0'])\n",
    "color_1Label = LabelEncoder()\n",
    "data['color_1'] = color_1Label.fit_transform(data['color_1'])\n",
    "color_2Label = LabelEncoder()\n",
    "data['color_2'] = color_2Label.fit_transform(data['color_2'])\n",
    "color_3Label = LabelEncoder()\n",
    "data['color_3'] = color_3Label.fit_transform(data['color_3'])\n",
    "color_4Label = LabelEncoder()\n",
    "data['color_4'] = color_4Label.fit_transform(data['color_4'])\n",
    "redLabel = LabelEncoder()\n",
    "data['red'] = redLabel.fit_transform(data['red'])\n",
    "greenLabel = LabelEncoder()\n",
    "data['green'] = greenLabel.fit_transform(data['green'])\n",
    "blueLabel = LabelEncoder()\n",
    "data['blue'] = blueLabel.fit_transform(data['blue'])\n",
    "resultLabel = LabelEncoder()\n",
    "data['result'] = resultLabel.fit_transform(data['result'])\n",
    "\n",
    "data.tail()\n"
   ]
  },
  {
   "attachments": {},
   "cell_type": "markdown",
   "metadata": {},
   "source": [
    "## Utilisation d'un arbre de décision"
   ]
  },
  {
   "cell_type": "code",
   "execution_count": null,
   "metadata": {},
   "outputs": [],
   "source": [
    "from sklearn import tree\n",
    "\n",
    "dtc = tree.DecisionTreeClassifier()\n",
    "pourcent = 0.95\n",
    "data_tc = data.drop('result', axis=1).iloc[0:int(len(data)*pourcent)]\n",
    "data_result = data['result'].iloc[0:int(len(data)*pourcent)]\n",
    "dtc = dtc.fit(data_tc , data_result)\n",
    "data_result.iloc[0:5]"
   ]
  },
  {
   "attachments": {},
   "cell_type": "markdown",
   "metadata": {},
   "source": [
    "## On affiche l'arbre de decision"
   ]
  },
  {
   "cell_type": "code",
   "execution_count": null,
   "metadata": {},
   "outputs": [],
   "source": [
    "\n",
    "import graphviz\n",
    "import pydotplus\n",
    "from IPython.display import Image, display\n",
    "\n",
    "dot_data = tree.export_graphviz(dtc, out_file=None,\n",
    "        feature_names=data_tc.columns,\n",
    "        filled=True, rounded=True, \n",
    "        class_names =\n",
    "        resultLabel.inverse_transform(\n",
    "        pd.DataFrame(data_result).result.unique())\n",
    "        ) \n",
    "graph = graphviz.Source(dot_data) \n",
    "\n",
    "pydot_graph = pydotplus.graph_from_dot_data(dot_data)\n",
    "img = Image(pydot_graph.create_png())\n",
    "display(img)\n",
    "#pydot_graph.write_png('tree.png')\n"
   ]
  },
  {
   "attachments": {},
   "cell_type": "markdown",
   "metadata": {},
   "source": [
    "## Prediction\n",
    "\n"
   ]
  },
  {
   "cell_type": "code",
   "execution_count": null,
   "metadata": {},
   "outputs": [],
   "source": [
    "# avec la derniere image\n",
    "prediction = dtc.predict(\n",
    "    [[\n",
    "        themeLabel.transform([\"Voitures\"])[0],\n",
    "        imageLabel.transform([\"Tesla_Model_S.jpg\"])[0],\n",
    "        widthLabel.transform([\"7786\"])[0],\n",
    "        heightLabel.transform([\"4380\"])[0],\n",
    "        formatLabel.transform([\"JPEG\"])[0],\n",
    "        color_0Label.transform([\"red\"])[0],\n",
    "        color_1Label.transform([\"grey\"])[0],\n",
    "        color_2Label.transform([\"blue\"])[0],\n",
    "        color_3Label.transform([\"darkgrey\"])[0],\n",
    "        color_4Label.transform([\"lightgrey\"])[0],\n",
    "        redLabel.transform([92.91901662620823])[0],\n",
    "        greenLabel.transform([105.17334974822148])[0],\n",
    "        blueLabel.transform([110.4893751011136])[0]\n",
    "    ]]\n",
    ")\n",
    "print(resultLabel.inverse_transform(prediction))\n",
    "print(dtc.feature_importances_)"
   ]
  },
  {
   "cell_type": "code",
   "execution_count": null,
   "metadata": {},
   "outputs": [],
   "source": [
    "# from PIL import Image\n",
    "# import os\n",
    "# import matplotlib.pyplot as plt\n",
    "# import matplotlib.image as mpimg\n",
    "\n",
    "# dir = \"images\"\n",
    "# themes =  os.listdir(dir)\n",
    "\n",
    "# for theme in themes: \n",
    "#     if theme in {\".DS_Store\", \"ExifData.json\",\"ExifData2.json\",\"ExifDatatest.json\"}:\n",
    "#         pass \n",
    "#     else:\n",
    "#         dir_test = os.path.join(dir, theme)\n",
    "#         for image in os.listdir(dir_test):\n",
    "#             if image.endswith(\".jpg\") :\n",
    "#                 img_path = os.path.join(dir, theme, image)\n",
    "#                 img = mpimg.imread(img_path)\n",
    "#                 imgplot = plt.imshow(img)\n",
    "#                 plt.show()\n",
    "#                 test = input(\"Voulez vous ajouter cette image à votre collection ? (y/n)\")\n"
   ]
  }
 ],
 "metadata": {
  "kernelspec": {
   "display_name": "Python 3",
   "language": "python",
   "name": "python3"
  },
  "language_info": {
   "codemirror_mode": {
    "name": "ipython",
    "version": 3
   },
   "file_extension": ".py",
   "mimetype": "text/x-python",
   "name": "python",
   "nbconvert_exporter": "python",
   "pygments_lexer": "ipython3",
   "version": "3.10.10"
  },
  "orig_nbformat": 4
 },
 "nbformat": 4,
 "nbformat_minor": 2
}
