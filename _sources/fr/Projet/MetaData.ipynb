{
 "cells": [
  {
   "attachments": {},
   "cell_type": "markdown",
   "metadata": {},
   "source": [
    "# Reanding Exif data from ./images"
   ]
  },
  {
   "cell_type": "code",
   "execution_count": 70,
   "metadata": {},
   "outputs": [
    {
     "name": "stdout",
     "output_type": "stream",
     "text": [
      "Exoplanet\n",
      "Pokemon\n",
      "Moto\n",
      "Voitures\n",
      "[{'theme': 'Exoplanet', 'image': '55_Cancri_b.jpg', 'width': 1024, 'height': 768, 'format': 'PNG', 'orientation': 'no exif'}, {'theme': 'Exoplanet', 'image': 'Gliese_876_e.jpg', 'width': 1587, 'height': 919, 'format': 'PNG', 'orientation': 'no exif'}, {'theme': 'Exoplanet', 'image': 'XO-3b.jpg', 'width': 800, 'height': 500, 'format': 'JPEG', 'orientation': 'no exif'}, {'theme': 'Exoplanet', 'image': 'OGLE-2005-BLG-169Lb.jpg', 'width': 1271, 'height': 746, 'format': 'JPEG', 'orientation': 'no exif'}, {'theme': 'Exoplanet', 'image': 'Kepler-242b.jpg', 'width': 1980, 'height': 1200, 'format': 'JPEG', 'orientation': 'no exif'}]\n"
     ]
    }
   ],
   "source": [
    "import os\n",
    "from PIL import Image\n",
    "\n",
    "dir = \"images\"\n",
    "themes = os.listdir(dir)\n",
    "data = []\n",
    "\n",
    "for theme in themes: \n",
    "    if theme in {\".DS_Store\", \"ExifData.json\",\"ExifData2.json\",\"ExifDatatest.json\"}:\n",
    "        pass   \n",
    "    else:\n",
    "        print(theme)\n",
    "        dir_test = os.path.join(dir, theme)\n",
    "        for image in os.listdir(dir_test):\n",
    "            #print(image)\n",
    "            if image.endswith(\".jpg\") :\n",
    "                #img_path =  dir + theme + '/'+ image\n",
    "                img_path = os.path.join(dir, theme, image)\n",
    "                # print(img_path)\n",
    "                with Image.open(img_path) as img:\n",
    "                    # print(img)\n",
    "                    width, height = img.size\n",
    "                    format = img.format\n",
    "                    try:\n",
    "                        orientation = img._getexif()[274]\n",
    "                    except:\n",
    "                        orientation = \"no exif\"\n",
    "                    #print(f'{width=}x{height=} {format=} {orientation=}')\n",
    "                    data.append({\"theme\": theme, \"image\": image, \"width\": width, \"height\": height, \"format\": format, \"orientation\": orientation})\n",
    "                    \n",
    "print(data[0:5])"
   ]
  },
  {
   "attachments": {},
   "cell_type": "markdown",
   "metadata": {},
   "source": [
    "## Get proiminant colors from images"
   ]
  },
  {
   "cell_type": "code",
   "execution_count": 71,
   "metadata": {},
   "outputs": [
    {
     "data": {
      "text/plain": [
       "['#1c1e20', '#a49486', '#4d4136', '#0a0b0d', '#826b58']"
      ]
     },
     "execution_count": 71,
     "metadata": {},
     "output_type": "execute_result"
    }
   ],
   "source": [
    "from PIL import Image\n",
    "import warnings\n",
    "import numpy as np\n",
    "import math\n",
    "import matplotlib.pyplot as plot\n",
    "from sklearn.cluster import MiniBatchKMeans\n",
    "\n",
    "def getKmeans(img):\n",
    "    # init\n",
    "    img = Image.open(img) # open image\n",
    "    imgfile = img.resize((int(img.size[0]/5), int(img.size[1]/5))) # resize\n",
    "    numarray = np.array(imgfile.getdata(), np.uint8) # convert image to numpy array\n",
    "    cluster_count = 5 # number of clusters\n",
    "    clusters = MiniBatchKMeans(n_clusters=cluster_count, n_init=\"auto\") # init kmeans\n",
    "    clusters.fit(numarray) # fit kmeans\n",
    "    npbins = np.arange(0, cluster_count + 1) # init bins\n",
    "    histogram = np.histogram(clusters.labels_, bins=npbins) # get histogram\n",
    "    #labels = numpy.unique(clusters.labels_) # get labels\n",
    "\n",
    "    # getting colors\n",
    "    color = []\n",
    "    for i in range(cluster_count):\n",
    "        color.append(\n",
    "            \"#%02x%02x%02x\" % (math.ceil(clusters.cluster_centers_[i][0]),math.ceil(clusters.cluster_centers_[i][1]),math.ceil(clusters.cluster_centers_[i][2]),)\n",
    "        )\n",
    "    #barlist = plot.bar(labels, sorted(histogram[0], reverse=True), color=color)\n",
    "    #plot.show()\n",
    "    return (color)\n",
    "\n",
    "\n",
    "getKmeans(\"./images/Exoplanet/2M1207_b.jpg\")"
   ]
  },
  {
   "attachments": {},
   "cell_type": "markdown",
   "metadata": {},
   "source": [
    "## Transformation de hexa a RGB"
   ]
  },
  {
   "cell_type": "code",
   "execution_count": 72,
   "metadata": {},
   "outputs": [
    {
     "name": "stdout",
     "output_type": "stream",
     "text": [
      "[204   0 204]\n",
      "pink\n"
     ]
    }
   ],
   "source": [
    "import numpy as np\n",
    "\n",
    "list_of_colors = [\n",
    "                (204,0,0), #red\n",
    "                (204,102,0),# brown\n",
    "                (204,204,0),# yellow\n",
    "                (102,204,0),# lightgreen\n",
    "                (0,204,0),# green\n",
    "                (0,204,102),# bluegreen\n",
    "                (0,204,204),# lightblue\n",
    "                (0,102,204), # blue\n",
    "                (0,0,204), # darkblue\n",
    "                (102,0,204), # purple\n",
    "                (204,0,204), # pink\n",
    "                (204,0,102), # darkpink\n",
    "                (255,255,255), # white\n",
    "                (192,192,192), # lightgrey\n",
    "                (128,128,128), # grey\n",
    "                (64,64,64), # darkgrey\n",
    "                (0,0,0) # black\n",
    "]\n",
    "\n",
    "color_to_name = [\"red\", \"brown\", \"yellow\", \"lightgreen\",\"green\",\"bluegreen\", \"lightblue\",\"blue\",\"darkblue\", \"purple\", \"pink\",\"darkpink\", \"white\",\"lightgrey\", \"grey\",\"darkgrey\", \"black\"]\n",
    "\n",
    "def color_hex_to_rgb(color):\n",
    "    return list(int(color.lstrip('#')[i:i+2], 16) for i in (0, 2, 4))\n",
    "\n",
    "def rgb_to_name(color_to_name,list_of_colors ,rgb):\n",
    "    return color_to_name[list_of_colors.index(tuple(rgb))]\n",
    "\n",
    "\n",
    "def closest_color(colors,color_hexa):\n",
    "    color = color_hex_to_rgb(color_hexa)\n",
    "    colors = np.array(colors)\n",
    "    color = np.array(color)\n",
    "    distances = np.sqrt(np.sum((colors-color)**2,axis=1))\n",
    "    index_of_smallest = np.where(distances==np.amin(distances))\n",
    "    smallest_distance = colors[index_of_smallest]\n",
    "    return smallest_distance \n",
    "\n",
    "color = \"#ff00b0\"\n",
    "rgb = closest_color(list_of_colors,color)\n",
    "print(rgb[0])\n",
    "name = rgb_to_name(color_to_name,list_of_colors,rgb[0])\n",
    "print(name)"
   ]
  },
  {
   "attachments": {},
   "cell_type": "markdown",
   "metadata": {},
   "source": [
    "## Getting histogram from images"
   ]
  },
  {
   "cell_type": "code",
   "execution_count": 73,
   "metadata": {},
   "outputs": [
    {
     "data": {
      "text/plain": [
       "{'red': 44.77778330018979,\n",
       " 'green': 41.671026930561624,\n",
       " 'blue': 39.357752621028695}"
      ]
     },
     "execution_count": 73,
     "metadata": {},
     "output_type": "execute_result"
    }
   ],
   "source": [
    "from PIL import Image\n",
    "import matplotlib.pyplot as plot\n",
    "import numpy as np\n",
    "\n",
    "def getDiagram(img):\n",
    "    imgfile = Image.open(img)\n",
    "    histogram = imgfile.histogram()\n",
    "    red = histogram[0:255]\n",
    "    green = histogram[256:511]\n",
    "    blue = histogram[512:767]\n",
    "    # x = range(255)\n",
    "    # y = []\n",
    "    # for i in x:\n",
    "    #     y.append((red[i], green[i], blue[i]))\n",
    "    # figure,axes = plot.subplots()\n",
    "    # axes.set_prop_cycle(\"color\", [\"red\", \"green\", \"blue\"])\n",
    "    # plot.plot(x, y)\n",
    "    # plot.show()\n",
    "    mapping = {\"red\": np.average(range(0,255),weights=red), \"green\": np.average(range(0,255),weights=green), \"blue\": np.average(range(0,255),weights=blue)}\n",
    "    return mapping\n",
    "\n",
    "getDiagram(\"./images/Exoplanet/2M1207_b.jpg\")"
   ]
  },
  {
   "attachments": {},
   "cell_type": "markdown",
   "metadata": {},
   "source": [
    "## Adding diagram and Kmeans to exif data"
   ]
  },
  {
   "cell_type": "code",
   "execution_count": 75,
   "metadata": {},
   "outputs": [
    {
     "name": "stderr",
     "output_type": "stream",
     "text": [
      "100%|██████████| 355/355 [02:42<00:00,  2.19it/s]\n"
     ]
    }
   ],
   "source": [
    "from tqdm import tqdm\n",
    "\n",
    "for i in tqdm(range(len(data))):\n",
    "    dir = os.path.join(\"images\", data[i][\"theme\"], data[i][\"image\"])\n",
    "    colors = getKmeans(dir)\n",
    "    for n, c in enumerate(colors):\n",
    "        rgb =(closest_color(list_of_colors,c))[0]\n",
    "        data[i][f\"color_{n}\"] = rgb_to_name(color_to_name, list_of_colors, rgb)\n",
    "    RGB = getDiagram(dir)\n",
    "    for key, value in RGB.items():\n",
    "        data[i][key] = value"
   ]
  },
  {
   "attachments": {},
   "cell_type": "markdown",
   "metadata": {},
   "source": [
    "## Writing exif data into json file : ./images/ExifData.json"
   ]
  },
  {
   "cell_type": "code",
   "execution_count": null,
   "metadata": {},
   "outputs": [],
   "source": [
    "import json\n",
    "from numpyencoder import NumpyEncoder\n",
    "\n",
    "with open('./images/ExifDatatest.json', 'w+') as f:\n",
    "    json.dump(data, f, indent=4, cls=NumpyEncoder)"
   ]
  }
 ],
 "metadata": {
  "kernelspec": {
   "display_name": "Python 3",
   "language": "python",
   "name": "python3"
  },
  "language_info": {
   "codemirror_mode": {
    "name": "ipython",
    "version": 3
   },
   "file_extension": ".py",
   "mimetype": "text/x-python",
   "name": "python",
   "nbconvert_exporter": "python",
   "pygments_lexer": "ipython3",
   "version": "3.10.10"
  },
  "orig_nbformat": 4,
  "vscode": {
   "interpreter": {
    "hash": "c261aea317cc0286b3b3261fbba9abdec21eaa57589985bb7a274bf54d6cc0a7"
   }
  }
 },
 "nbformat": 4,
 "nbformat_minor": 2
}
