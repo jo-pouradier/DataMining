{
 "cells": [
  {
   "attachments": {},
   "cell_type": "markdown",
   "metadata": {},
   "source": [
    "# Reanding Exif data from ./images"
   ]
  },
  {
   "cell_type": "code",
   "execution_count": 6,
   "metadata": {},
   "outputs": [
    {
     "name": "stdout",
     "output_type": "stream",
     "text": [
      "ExifData2.json\n"
     ]
    },
    {
     "ename": "NotADirectoryError",
     "evalue": "[WinError 267] Nom de répertoire non valide: 'images/ExifData2.json'",
     "output_type": "error",
     "traceback": [
      "\u001b[1;31m---------------------------------------------------------------------------\u001b[0m",
      "\u001b[1;31mNotADirectoryError\u001b[0m                        Traceback (most recent call last)",
      "Cell \u001b[1;32mIn[6], line 13\u001b[0m\n\u001b[0;32m     11\u001b[0m \u001b[39melse\u001b[39;00m:\n\u001b[0;32m     12\u001b[0m     \u001b[39mprint\u001b[39m(theme)\n\u001b[1;32m---> 13\u001b[0m     \u001b[39mfor\u001b[39;00m image \u001b[39min\u001b[39;00m os\u001b[39m.\u001b[39;49mlistdir(\u001b[39mdir\u001b[39;49m \u001b[39m+\u001b[39;49m theme):\n\u001b[0;32m     14\u001b[0m         \u001b[39m#print(image)\u001b[39;00m\n\u001b[0;32m     15\u001b[0m         \u001b[39mif\u001b[39;00m image\u001b[39m.\u001b[39mendswith(\u001b[39m\"\u001b[39m\u001b[39m.jpg\u001b[39m\u001b[39m\"\u001b[39m) :\n\u001b[0;32m     16\u001b[0m             img_path \u001b[39m=\u001b[39m  \u001b[39mdir\u001b[39m \u001b[39m+\u001b[39m theme \u001b[39m+\u001b[39m \u001b[39m'\u001b[39m\u001b[39m/\u001b[39m\u001b[39m'\u001b[39m\u001b[39m+\u001b[39m image\n",
      "\u001b[1;31mNotADirectoryError\u001b[0m: [WinError 267] Nom de répertoire non valide: 'images/ExifData2.json'"
     ]
    }
   ],
   "source": [
    "import os\n",
    "from PIL import Image\n",
    "\n",
    "dir = r'images/'\n",
    "themes = os.listdir(dir)\n",
    "data = []\n",
    "\n",
    "for theme in themes: \n",
    "    if theme in {\".DS_Store\", \"ExifData.json\"}:\n",
    "        pass   \n",
    "    else:\n",
    "        print(theme)\n",
    "        for image in os.listdir(dir + theme):\n",
    "            #print(image)\n",
    "            if image.endswith(\".jpg\") :\n",
    "                img_path =  dir + theme + '/'+ image\n",
    "                # print(img_path)\n",
    "                with Image.open(img_path) as img:\n",
    "                    # print(img)\n",
    "                    width, height = img.size\n",
    "                    format = img.format\n",
    "                    try:\n",
    "                        orientation = img._getexif()[274]\n",
    "                    except:\n",
    "                        orientation = \"no exif\"\n",
    "                    #print(f'{width=}x{height=} {format=} {orientation=}')\n",
    "                    data.append({\"theme\": theme, \"image\": image, \"width\": width, \"height\": height, \"format\": format, \"orientation\": orientation})\n",
    "                    \n",
    "print(data[0:5])"
   ]
  },
  {
   "attachments": {},
   "cell_type": "markdown",
   "metadata": {},
   "source": [
    "## Get proiminant colors from images"
   ]
  },
  {
   "cell_type": "code",
   "execution_count": null,
   "metadata": {},
   "outputs": [
    {
     "ename": "KeyboardInterrupt",
     "evalue": "",
     "output_type": "error",
     "traceback": [
      "\u001b[1;31m---------------------------------------------------------------------------\u001b[0m",
      "\u001b[1;31mKeyboardInterrupt\u001b[0m                         Traceback (most recent call last)",
      "Cell \u001b[1;32mIn[3], line 31\u001b[0m\n\u001b[0;32m     28\u001b[0m     mapping \u001b[39m=\u001b[39m {\u001b[39m\"\u001b[39m\u001b[39mnumbers\u001b[39m\u001b[39m\"\u001b[39m: \u001b[39msorted\u001b[39m(histogram[\u001b[39m0\u001b[39m], reverse\u001b[39m=\u001b[39m\u001b[39mTrue\u001b[39;00m), \u001b[39m\"\u001b[39m\u001b[39mcolors\u001b[39m\u001b[39m\"\u001b[39m: color}\n\u001b[0;32m     29\u001b[0m     \u001b[39mreturn\u001b[39;00m (mapping)\n\u001b[1;32m---> 31\u001b[0m getKmeans(\u001b[39m\"\u001b[39;49m\u001b[39m./images/Exoplanet/2M1207_b.jpg\u001b[39;49m\u001b[39m\"\u001b[39;49m)\n",
      "Cell \u001b[1;32mIn[3], line 15\u001b[0m, in \u001b[0;36mgetKmeans\u001b[1;34m(img)\u001b[0m\n\u001b[0;32m     13\u001b[0m cluster_count \u001b[39m=\u001b[39m \u001b[39m5\u001b[39m \u001b[39m# number of clusters\u001b[39;00m\n\u001b[0;32m     14\u001b[0m clusters \u001b[39m=\u001b[39m MiniBatchKMeans(n_clusters\u001b[39m=\u001b[39mcluster_count, n_init\u001b[39m=\u001b[39m\u001b[39m\"\u001b[39m\u001b[39mauto\u001b[39m\u001b[39m\"\u001b[39m) \u001b[39m# init kmeans\u001b[39;00m\n\u001b[1;32m---> 15\u001b[0m clusters\u001b[39m.\u001b[39;49mfit(numarray) \u001b[39m# fit kmeans\u001b[39;00m\n\u001b[0;32m     16\u001b[0m npbins \u001b[39m=\u001b[39m numpy\u001b[39m.\u001b[39marange(\u001b[39m0\u001b[39m, cluster_count \u001b[39m+\u001b[39m \u001b[39m1\u001b[39m) \u001b[39m# init bins\u001b[39;00m\n\u001b[0;32m     17\u001b[0m histogram \u001b[39m=\u001b[39m numpy\u001b[39m.\u001b[39mhistogram(clusters\u001b[39m.\u001b[39mlabels_, bins\u001b[39m=\u001b[39mnpbins) \u001b[39m# get histogram\u001b[39;00m\n",
      "File \u001b[1;32mc:\\Python311\\Lib\\site-packages\\sklearn\\cluster\\_kmeans.py:2103\u001b[0m, in \u001b[0;36mMiniBatchKMeans.fit\u001b[1;34m(self, X, y, sample_weight)\u001b[0m\n\u001b[0;32m   2100\u001b[0m minibatch_indices \u001b[39m=\u001b[39m random_state\u001b[39m.\u001b[39mrandint(\u001b[39m0\u001b[39m, n_samples, \u001b[39mself\u001b[39m\u001b[39m.\u001b[39m_batch_size)\n\u001b[0;32m   2102\u001b[0m \u001b[39m# Perform the actual update step on the minibatch data\u001b[39;00m\n\u001b[1;32m-> 2103\u001b[0m batch_inertia \u001b[39m=\u001b[39m _mini_batch_step(\n\u001b[0;32m   2104\u001b[0m     X\u001b[39m=\u001b[39;49mX[minibatch_indices],\n\u001b[0;32m   2105\u001b[0m     sample_weight\u001b[39m=\u001b[39;49msample_weight[minibatch_indices],\n\u001b[0;32m   2106\u001b[0m     centers\u001b[39m=\u001b[39;49mcenters,\n\u001b[0;32m   2107\u001b[0m     centers_new\u001b[39m=\u001b[39;49mcenters_new,\n\u001b[0;32m   2108\u001b[0m     weight_sums\u001b[39m=\u001b[39;49m\u001b[39mself\u001b[39;49m\u001b[39m.\u001b[39;49m_counts,\n\u001b[0;32m   2109\u001b[0m     random_state\u001b[39m=\u001b[39;49mrandom_state,\n\u001b[0;32m   2110\u001b[0m     random_reassign\u001b[39m=\u001b[39;49m\u001b[39mself\u001b[39;49m\u001b[39m.\u001b[39;49m_random_reassign(),\n\u001b[0;32m   2111\u001b[0m     reassignment_ratio\u001b[39m=\u001b[39;49m\u001b[39mself\u001b[39;49m\u001b[39m.\u001b[39;49mreassignment_ratio,\n\u001b[0;32m   2112\u001b[0m     verbose\u001b[39m=\u001b[39;49m\u001b[39mself\u001b[39;49m\u001b[39m.\u001b[39;49mverbose,\n\u001b[0;32m   2113\u001b[0m     n_threads\u001b[39m=\u001b[39;49m\u001b[39mself\u001b[39;49m\u001b[39m.\u001b[39;49m_n_threads,\n\u001b[0;32m   2114\u001b[0m )\n\u001b[0;32m   2116\u001b[0m \u001b[39mif\u001b[39;00m \u001b[39mself\u001b[39m\u001b[39m.\u001b[39m_tol \u001b[39m>\u001b[39m \u001b[39m0.0\u001b[39m:\n\u001b[0;32m   2117\u001b[0m     centers_squared_diff \u001b[39m=\u001b[39m np\u001b[39m.\u001b[39msum((centers_new \u001b[39m-\u001b[39m centers) \u001b[39m*\u001b[39m\u001b[39m*\u001b[39m \u001b[39m2\u001b[39m)\n",
      "File \u001b[1;32mc:\\Python311\\Lib\\site-packages\\sklearn\\cluster\\_kmeans.py:1582\u001b[0m, in \u001b[0;36m_mini_batch_step\u001b[1;34m(X, sample_weight, centers, centers_new, weight_sums, random_state, random_reassign, reassignment_ratio, verbose, n_threads)\u001b[0m\n\u001b[0;32m   1527\u001b[0m \u001b[39m\u001b[39m\u001b[39m\"\"\"Incremental update of the centers for the Minibatch K-Means algorithm.\u001b[39;00m\n\u001b[0;32m   1528\u001b[0m \n\u001b[0;32m   1529\u001b[0m \u001b[39mParameters\u001b[39;00m\n\u001b[1;32m   (...)\u001b[0m\n\u001b[0;32m   1577\u001b[0m \u001b[39m    the centers.\u001b[39;00m\n\u001b[0;32m   1578\u001b[0m \u001b[39m\"\"\"\u001b[39;00m\n\u001b[0;32m   1579\u001b[0m \u001b[39m# Perform label assignment to nearest centers\u001b[39;00m\n\u001b[0;32m   1580\u001b[0m \u001b[39m# For better efficiency, it's better to run _mini_batch_step in a\u001b[39;00m\n\u001b[0;32m   1581\u001b[0m \u001b[39m# threadpool_limit context than using _labels_inertia_threadpool_limit here\u001b[39;00m\n\u001b[1;32m-> 1582\u001b[0m labels, inertia \u001b[39m=\u001b[39m _labels_inertia(X, sample_weight, centers, n_threads\u001b[39m=\u001b[39;49mn_threads)\n\u001b[0;32m   1584\u001b[0m \u001b[39m# Update centers according to the labels\u001b[39;00m\n\u001b[0;32m   1585\u001b[0m \u001b[39mif\u001b[39;00m sp\u001b[39m.\u001b[39missparse(X):\n",
      "File \u001b[1;32mc:\\Python311\\Lib\\site-packages\\sklearn\\cluster\\_kmeans.py:789\u001b[0m, in \u001b[0;36m_labels_inertia\u001b[1;34m(X, sample_weight, centers, n_threads, return_inertia)\u001b[0m\n\u001b[0;32m    786\u001b[0m     X \u001b[39m=\u001b[39m ReadonlyArrayWrapper(X)\n\u001b[0;32m    788\u001b[0m centers \u001b[39m=\u001b[39m ReadonlyArrayWrapper(centers)\n\u001b[1;32m--> 789\u001b[0m _labels(\n\u001b[0;32m    790\u001b[0m     X,\n\u001b[0;32m    791\u001b[0m     sample_weight,\n\u001b[0;32m    792\u001b[0m     centers,\n\u001b[0;32m    793\u001b[0m     centers_new\u001b[39m=\u001b[39;49m\u001b[39mNone\u001b[39;49;00m,\n\u001b[0;32m    794\u001b[0m     weight_in_clusters\u001b[39m=\u001b[39;49m\u001b[39mNone\u001b[39;49;00m,\n\u001b[0;32m    795\u001b[0m     labels\u001b[39m=\u001b[39;49mlabels,\n\u001b[0;32m    796\u001b[0m     center_shift\u001b[39m=\u001b[39;49mcenter_shift,\n\u001b[0;32m    797\u001b[0m     n_threads\u001b[39m=\u001b[39;49mn_threads,\n\u001b[0;32m    798\u001b[0m     update_centers\u001b[39m=\u001b[39;49m\u001b[39mFalse\u001b[39;49;00m,\n\u001b[0;32m    799\u001b[0m )\n\u001b[0;32m    801\u001b[0m \u001b[39mif\u001b[39;00m return_inertia:\n\u001b[0;32m    802\u001b[0m     inertia \u001b[39m=\u001b[39m _inertia(X, sample_weight, centers, labels, n_threads)\n",
      "\u001b[1;31mKeyboardInterrupt\u001b[0m: "
     ]
    }
   ],
   "source": [
    "from PIL import Image\n",
    "import warnings\n",
    "import numpy\n",
    "import math\n",
    "import matplotlib.pyplot as plot\n",
    "from sklearn.cluster import MiniBatchKMeans\n",
    "\n",
    "def getKmeans(img):\n",
    "    # init\n",
    "    img = Image.open(img) # open image\n",
    "    imgfile = img.resize((int(img.size[0]/5), int(img.size[1]/5))) # resize\n",
    "    numarray = numpy.array(imgfile.getdata(), numpy.uint8) # convert image to numpy array\n",
    "    cluster_count = 5 # number of clusters\n",
    "    clusters = MiniBatchKMeans(n_clusters=cluster_count, n_init=\"auto\") # init kmeans\n",
    "    clusters.fit(numarray) # fit kmeans\n",
    "    npbins = numpy.arange(0, cluster_count + 1) # init bins\n",
    "    histogram = numpy.histogram(clusters.labels_, bins=npbins) # get histogram\n",
    "    #labels = numpy.unique(clusters.labels_) # get labels\n",
    "\n",
    "    # getting colors\n",
    "    color = []\n",
    "    for i in range(cluster_count):\n",
    "        color.append(\n",
    "            \"#%02x%02x%02x\" % (math.ceil(clusters.cluster_centers_[i][0]),math.ceil(clusters.cluster_centers_[i][1]),math.ceil(clusters.cluster_centers_[i][2]),)\n",
    "        )\n",
    "    #barlist = plot.bar(labels, sorted(histogram[0], reverse=True), color=color)\n",
    "    #plot.show()\n",
    "    mapping = {\"numbers\": sorted(histogram[0], reverse=True), \"colors\": color}\n",
    "    return (mapping)\n",
    "\n",
    "getKmeans(\"./images/Exoplanet/2M1207_b.jpg\")"
   ]
  },
  {
   "attachments": {},
   "cell_type": "markdown",
   "metadata": {},
   "source": [
    "## Getting histogram from images"
   ]
  },
  {
   "cell_type": "code",
   "execution_count": null,
   "metadata": {},
   "outputs": [],
   "source": [
    "from PIL import Image\n",
    "import matplotlib.pyplot as plot\n",
    "import numpy as np\n",
    "\n",
    "\n",
    "def getDiagram(img):\n",
    "    imgfile = Image.open(\"./images/Exoplanet/2M1207_b.jpg\")\n",
    "    histogram = imgfile.histogram()\n",
    "    red = histogram[0:255]\n",
    "    green = histogram[256:511]\n",
    "    blue = histogram[512:767]\n",
    "    # x = range(255)\n",
    "    # y = []\n",
    "    # for i in x:\n",
    "    #     y.append((red[i], green[i], blue[i]))\n",
    "    # figure,axes = plot.subplots()\n",
    "    # axes.set_prop_cycle(\"color\", [\"red\", \"green\", \"blue\"])\n",
    "    # plot.plot(x, y)\n",
    "    # plot.show()\n",
    "    mapping = {\"red\": np.mean(red), \"green\": np.mean(green), \"blue\": np.mean(blue)}\n",
    "    return mapping\n",
    "\n",
    "getDiagram(\"./images/Exoplanet/2M1207_b.jpg\")"
   ]
  },
  {
   "attachments": {},
   "cell_type": "markdown",
   "metadata": {},
   "source": [
    "## Adding diagram and Kmeans to exif data"
   ]
  },
  {
   "cell_type": "code",
   "execution_count": null,
   "metadata": {},
   "outputs": [],
   "source": [
    "for obj in data:\n",
    "    print(obj[\"image\"])\n",
    "    obj[\"kmeans\"] = getKmeans(dir + obj[\"theme\"] + '/' + obj[\"image\"])\n",
    "    obj[\"diagram\"] = getDiagram(dir + obj[\"theme\"] + '/' + obj[\"image\"])"
   ]
  },
  {
   "attachments": {},
   "cell_type": "markdown",
   "metadata": {},
   "source": [
    "## Writing exif data into json file : ./images/ExifData.json"
   ]
  },
  {
   "cell_type": "code",
   "execution_count": null,
   "metadata": {},
   "outputs": [
    {
     "ename": "NameError",
     "evalue": "name 'data' is not defined",
     "output_type": "error",
     "traceback": [
      "\u001b[1;31m---------------------------------------------------------------------------\u001b[0m",
      "\u001b[1;31mNameError\u001b[0m                                 Traceback (most recent call last)",
      "Cell \u001b[1;32mIn[2], line 5\u001b[0m\n\u001b[0;32m      2\u001b[0m \u001b[39mfrom\u001b[39;00m \u001b[39mnumpyencoder\u001b[39;00m \u001b[39mimport\u001b[39;00m NumpyEncoder\n\u001b[0;32m      4\u001b[0m \u001b[39mwith\u001b[39;00m \u001b[39mopen\u001b[39m(\u001b[39m'\u001b[39m\u001b[39m./images/ExifDatatest.json\u001b[39m\u001b[39m'\u001b[39m, \u001b[39m'\u001b[39m\u001b[39mw+\u001b[39m\u001b[39m'\u001b[39m) \u001b[39mas\u001b[39;00m f:\n\u001b[1;32m----> 5\u001b[0m     json\u001b[39m.\u001b[39mdump(data, f, indent\u001b[39m=\u001b[39m\u001b[39m4\u001b[39m, \u001b[39mcls\u001b[39m\u001b[39m=\u001b[39mNumpyEncoder)\n",
      "\u001b[1;31mNameError\u001b[0m: name 'data' is not defined"
     ]
    }
   ],
   "source": [
    "import json\n",
    "from numpyencoder import NumpyEncoder\n",
    "\n",
    "with open('./images/ExifDatatest.json', 'w+') as f:\n",
    "    json.dump(data, f, indent=4, cls=NumpyEncoder)"
   ]
  }
 ],
 "metadata": {
  "kernelspec": {
   "display_name": "Python 3",
   "language": "python",
   "name": "python3"
  },
  "language_info": {
   "codemirror_mode": {
    "name": "ipython",
    "version": 3
   },
   "file_extension": ".py",
   "mimetype": "text/x-python",
   "name": "python",
   "nbconvert_exporter": "python",
   "pygments_lexer": "ipython3",
   "version": "3.11.0"
  },
  "orig_nbformat": 4,
  "vscode": {
   "interpreter": {
    "hash": "c261aea317cc0286b3b3261fbba9abdec21eaa57589985bb7a274bf54d6cc0a7"
   }
  }
 },
 "nbformat": 4,
 "nbformat_minor": 2
}
