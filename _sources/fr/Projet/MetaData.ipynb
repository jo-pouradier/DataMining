{
 "cells": [
  {
   "cell_type": "code",
   "execution_count": 3,
   "metadata": {},
   "outputs": [
    {
     "name": "stdout",
     "output_type": "stream",
     "text": [
      "Exoplanet\n",
      "14_Herculis_b.jpg\n",
      "images/Exoplanet/14_Herculis_b.jpg\n"
     ]
    },
    {
     "ename": "UnidentifiedImageError",
     "evalue": "cannot identify image file 'images/Exoplanet/14_Herculis_b.jpg'",
     "output_type": "error",
     "traceback": [
      "\u001b[1;31m---------------------------------------------------------------------------\u001b[0m",
      "\u001b[1;31mUnidentifiedImageError\u001b[0m                    Traceback (most recent call last)",
      "Cell \u001b[1;32mIn[3], line 17\u001b[0m\n\u001b[0;32m     15\u001b[0m img_path \u001b[39m=\u001b[39m  \u001b[39mdir\u001b[39m \u001b[39m+\u001b[39m theme \u001b[39m+\u001b[39m \u001b[39m'\u001b[39m\u001b[39m/\u001b[39m\u001b[39m'\u001b[39m\u001b[39m+\u001b[39m image\n\u001b[0;32m     16\u001b[0m \u001b[39mprint\u001b[39m(img_path)\n\u001b[1;32m---> 17\u001b[0m \u001b[39mwith\u001b[39;00m Image\u001b[39m.\u001b[39;49mopen(img_path) \u001b[39mas\u001b[39;00m img:\n\u001b[0;32m     18\u001b[0m     width, height \u001b[39m=\u001b[39m img\u001b[39m.\u001b[39msize\n\u001b[0;32m     19\u001b[0m     \u001b[39mformat\u001b[39m \u001b[39m=\u001b[39m img\u001b[39m.\u001b[39mformat\n",
      "File \u001b[1;32mc:\\Users\\pltel\\AppData\\Local\\Programs\\Python\\Python310\\lib\\site-packages\\PIL\\Image.py:3283\u001b[0m, in \u001b[0;36mopen\u001b[1;34m(fp, mode, formats)\u001b[0m\n\u001b[0;32m   3281\u001b[0m     warnings\u001b[39m.\u001b[39mwarn(message)\n\u001b[0;32m   3282\u001b[0m msg \u001b[39m=\u001b[39m \u001b[39m\"\u001b[39m\u001b[39mcannot identify image file \u001b[39m\u001b[39m%r\u001b[39;00m\u001b[39m\"\u001b[39m \u001b[39m%\u001b[39m (filename \u001b[39mif\u001b[39;00m filename \u001b[39melse\u001b[39;00m fp)\n\u001b[1;32m-> 3283\u001b[0m \u001b[39mraise\u001b[39;00m UnidentifiedImageError(msg)\n",
      "\u001b[1;31mUnidentifiedImageError\u001b[0m: cannot identify image file 'images/Exoplanet/14_Herculis_b.jpg'"
     ]
    }
   ],
   "source": [
    "import os\n",
    "from PIL import Image\n",
    "\n",
    "dir = r\"images/\"\n",
    "themes = os.listdir(dir)\n",
    "\n",
    "for theme in themes: \n",
    "    if theme == \".DS_Store\":\n",
    "        pass   \n",
    "    else:\n",
    "        print(theme)\n",
    "        for image in os.listdir(dir + theme):\n",
    "            print(image)\n",
    "            if image.endswith(\".jpg\") :\n",
    "                img_path =  dir + theme + '/'+ image\n",
    "                print(img_path)\n",
    "                with Image.open(img_path) as img:\n",
    "                    width, height = img.size\n",
    "                    format = img.format\n",
    "                    orientation = img._getexif()[274]\n",
    "                    print(\"width: \", width)\n"
   ]
  }
 ],
 "metadata": {
  "kernelspec": {
   "display_name": "Python 3",
   "language": "python",
   "name": "python3"
  },
  "language_info": {
   "codemirror_mode": {
    "name": "ipython",
    "version": 3
   },
   "file_extension": ".py",
   "mimetype": "text/x-python",
   "name": "python",
   "nbconvert_exporter": "python",
   "pygments_lexer": "ipython3",
   "version": "3.10.7"
  },
  "orig_nbformat": 4,
  "vscode": {
   "interpreter": {
    "hash": "915b6bd8344be914bd5160f14adb1e9a86edf20a3485c3d858ae53780df388bd"
   }
  }
 },
 "nbformat": 4,
 "nbformat_minor": 2
}
