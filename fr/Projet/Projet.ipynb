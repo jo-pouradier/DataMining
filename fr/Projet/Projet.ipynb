{
 "cells": [
  {
   "attachments": {},
   "cell_type": "markdown",
   "metadata": {},
   "source": [
    "# <u> Projet de système de recommandation </u>"
   ]
  },
  {
   "attachments": {},
   "cell_type": "markdown",
   "metadata": {},
   "source": [
    "## téléchargement des images"
   ]
  },
  {
   "cell_type": "code",
   "execution_count": 12,
   "metadata": {},
   "outputs": [
    {
     "name": "stdout",
     "output_type": "stream",
     "text": [
      "[{'motorcycleLabel': 'Ducati_ST3', 'image_path': 'http://commons.wikimedia.org/wiki/Special:FilePath/Ducati%20ST3%20%28DerHexer%29%202010-10-31%20041.jpg', 'brandLabel': 'Ducati_Motor_Holding'}, {'motorcycleLabel': 'ELF_500_ROC', 'image_path': 'http://commons.wikimedia.org/wiki/Special:FilePath/J%C3%BCrgen%20Fuchs%201997%20N%C3%BCrburgring.jpg', 'brandLabel': 'Elf_Aquitaine'}, {'motorcycleLabel': 'BMW_K_100_RT', 'image_path': 'http://commons.wikimedia.org/wiki/Special:FilePath/BMW%20K100%20RT%20street%20bike.jpg', 'brandLabel': 'Groupe_BMW'}, {'motorcycleLabel': 'Piaggio_Ape_Calessino', 'image_path': 'http://commons.wikimedia.org/wiki/Special:FilePath/Calessino%20Napolitano.jpg', 'brandLabel': 'Piaggio'}, {'motorcycleLabel': 'Ducati_Desmosedici_RR', 'image_path': 'http://commons.wikimedia.org/wiki/Special:FilePath/Paris%20-%20RM%20auctions%20-%2020150204%20-%20Ducati%20Desmosedici%20RR%20G8%20-%202009%20-%20001.jpg', 'brandLabel': 'Ducati_Motor_Holding'}]\n"
     ]
    }
   ],
   "source": [
    "import csv\n",
    "\n",
    "input_file = './images/Moto/Moto.csv'\n",
    "planets = []\n",
    "with open(input_file, encoding='UTF-8') as f:\n",
    "    rows = csv.reader(f,delimiter=\",\",lineterminator=\"\\n\")\n",
    "    next(rows, None)\n",
    "    for row in rows:\n",
    "        planet = {}\n",
    "        planet['motorcycleLabel'] = row[2]\n",
    "        planet['motorcycleLabel'] = planet['motorcycleLabel'].replace(\" \", \"_\")\n",
    "        planet['motorcycleLabel'] = planet['motorcycleLabel'].replace(\"/\", \"_\")\n",
    "        planet['image_path'] = row[1]\n",
    "        planet['brandLabel'] = row[4]\n",
    "        planet['brandLabel'] = planet['brandLabel'].replace(\" \", \"_\")\n",
    "        planet['brandLabel'] = planet['brandLabel'].replace(\"/\", \"_\")\n",
    "        planets.append(planet)\n",
    "print(planets[0:5])"
   ]
  },
  {
   "cell_type": "code",
   "execution_count": 13,
   "metadata": {},
   "outputs": [],
   "source": [
    "import requests\n",
    "import shutil\n",
    "\n",
    "# def download_image(thing):\n",
    "#     r = requests.get(str(thing[\"image_path\"]), allow_redirects=True, stream=True)\n",
    "#     with open(f\"./images/Moto/{planet['motorcycleLabel']}.jpg\", \"wb+\") as f:\n",
    "#         f.write(r.content)\n",
    "\n",
    "# for planet in planets:\n",
    "#     download_image(planet)\n",
    "def download_image(thing):\n",
    "\n",
    "    headers = {\"User-Agent\": \"Mozilla/5.0\"}\n",
    "    request = requests.get(thing[\"image_path\"], allow_redirects=True, headers=headers, stream=True)\n",
    "    if request.status_code == 200:\n",
    "        with open(f\"./images/Moto/{thing['motorcycleLabel']}.jpg\", \"wb+\") as f:\n",
    "            request.raw.decode_content = True\n",
    "            shutil.copyfileobj(request.raw, f)\n",
    "\n",
    "\n",
    "for thing in planets:\n",
    "    download_image(thing)"
   ]
  }
 ],
 "metadata": {
  "kernelspec": {
   "display_name": "Python 3",
   "language": "python",
   "name": "python3"
  },
  "language_info": {
   "codemirror_mode": {
    "name": "ipython",
    "version": 3
   },
   "file_extension": ".py",
   "mimetype": "text/x-python",
   "name": "python",
   "nbconvert_exporter": "python",
   "pygments_lexer": "ipython3",
   "version": "3.10.9"
  },
  "orig_nbformat": 4,
  "vscode": {
   "interpreter": {
    "hash": "b460384b52104c1e5b9cf54bee46a255d22b2bef338f75ac4ad5d48196028d3c"
   }
  }
 },
 "nbformat": 4,
 "nbformat_minor": 2
}
