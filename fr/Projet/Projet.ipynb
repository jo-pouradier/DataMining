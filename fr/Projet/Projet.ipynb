{
 "cells": [
  {
   "attachments": {},
   "cell_type": "markdown",
   "metadata": {},
   "source": [
    "# <u> Projet de système de recommandation </u>"
   ]
  },
  {
   "attachments": {},
   "cell_type": "markdown",
   "metadata": {},
   "source": [
    "## téléchargement des images"
   ]
  },
  {
   "cell_type": "code",
   "execution_count": 2,
   "metadata": {},
   "outputs": [
    {
     "name": "stdout",
     "output_type": "stream",
     "text": [
      "[{'exoplanetLabel': 'Kepler-10b', 'image_path': 'http://commons.wikimedia.org/wiki/Special:FilePath/Kepler10b%20artist.jpg', 'constellationLabel': 'Dragon'}, {'exoplanetLabel': 'Kepler-22b', 'image_path': 'http://commons.wikimedia.org/wiki/Special:FilePath/Kepler-22%20diagram.jpg', 'constellationLabel': 'Cygne'}, {'exoplanetLabel': 'Kepler-9b', 'image_path': 'http://commons.wikimedia.org/wiki/Special:FilePath/Kepler-9b%2C%20Jupiter%20size%20comparison.jpg', 'constellationLabel': 'Lyre'}, {'exoplanetLabel': '55_Cancri_f', 'image_path': 'http://commons.wikimedia.org/wiki/Special:FilePath/Artist%27s%20concept%20shows%20four%20of%20the%20five%20planets%20that%20orbit%2055%20Cancri%2C%20a%20star%20much%20like%20our%20own.jpg', 'constellationLabel': 'Cancer'}, {'exoplanetLabel': '55_Cancri_b', 'image_path': 'http://commons.wikimedia.org/wiki/Special:FilePath/55%20Rho%20Cancri%201%20b.png', 'constellationLabel': 'Cancer'}]\n"
     ]
    }
   ],
   "source": [
    "import csv\n",
    "\n",
    "input_file = './images/Exoplanet/exoplanet.csv'\n",
    "planets = []\n",
    "with open(input_file, encoding='UTF-8') as f:\n",
    "    rows = csv.reader(f,delimiter=\",\",lineterminator=\"\\n\")\n",
    "    next(rows, None)\n",
    "    for row in rows:\n",
    "        planet = {}\n",
    "        planet['exoplanetLabel'] = row[0]\n",
    "        planet['exoplanetLabel'] = planet['exoplanetLabel'].replace(\" \", \"_\")\n",
    "        planet['exoplanetLabel'] = planet['exoplanetLabel'].replace(\"/\", \"_\")\n",
    "        planet['image_path'] = row[1]\n",
    "        planet['constellationLabel'] = row[2]\n",
    "        planet['constellationLabel'] = planet['constellationLabel'].replace(\" \", \"_\")\n",
    "        planet['constellationLabel'] = planet['constellationLabel'].replace(\"/\", \"_\")\n",
    "        planets.append(planet)\n",
    "print(planets[0:5])"
   ]
  },
  {
   "cell_type": "code",
   "execution_count": 3,
   "metadata": {},
   "outputs": [],
   "source": [
    "import requests\n",
    "\n",
    "def download_image(planet):\n",
    "    r = requests.get(str(planet[\"image_path\"]), allow_redirects=True)\n",
    "    with open(f\"./images/Exoplanet/{planet['exoplanetLabel']}.jpg\", \"wb+\") as f:\n",
    "        f.write(r.content)\n",
    "\n",
    "for planet in planets:\n",
    "    download_image(planet)"
   ]
  }
 ],
 "metadata": {
  "kernelspec": {
   "display_name": "Python 3",
   "language": "python",
   "name": "python3"
  },
  "language_info": {
   "codemirror_mode": {
    "name": "ipython",
    "version": 3
   },
   "file_extension": ".py",
   "mimetype": "text/x-python",
   "name": "python",
   "nbconvert_exporter": "python",
   "pygments_lexer": "ipython3",
   "version": "3.10.9"
  },
  "orig_nbformat": 4,
  "vscode": {
   "interpreter": {
    "hash": "b460384b52104c1e5b9cf54bee46a255d22b2bef338f75ac4ad5d48196028d3c"
   }
  }
 },
 "nbformat": 4,
 "nbformat_minor": 2
}
