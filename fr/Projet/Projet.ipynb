{
 "cells": [
  {
   "attachments": {},
   "cell_type": "markdown",
   "metadata": {},
   "source": [
    "# <u> Projet de système de recommandation </u>"
   ]
  },
  {
   "attachments": {},
   "cell_type": "markdown",
   "metadata": {},
   "source": [
    "## téléchargement des images"
   ]
  },
  {
   "cell_type": "code",
   "execution_count": 4,
   "metadata": {},
   "outputs": [
    {
     "name": "stdout",
     "output_type": "stream",
     "text": [
      "[{'carLabel': 'Porsche_Type_12', 'image_path': 'http://commons.wikimedia.org/wiki/Special:FilePath/Porsche%20typ12.jpg', 'brandLabel': 'Porsche'}, {'carLabel': 'Peugeot_Rifter', 'image_path': 'http://commons.wikimedia.org/wiki/Special:FilePath/2018%20Peugeot%20Rifter%20Allure%20BlueHDi%201.6%20Front.jpg', 'brandLabel': 'Peugeot'}, {'carLabel': 'Mercedes_Grand-Prix', 'image_path': 'http://commons.wikimedia.org/wiki/Special:FilePath/Mercedes-GP-Wagen%20von%201914%20am%201977-08-14.jpg', 'brandLabel': 'Mercedes-Benz'}, {'carLabel': 'DKW_F1000L', 'image_path': 'http://commons.wikimedia.org/wiki/Special:FilePath/Mercedes-Benz%20N1300.jpg', 'brandLabel': 'Mercedes-Benz'}, {'carLabel': 'Eunos_500', 'image_path': 'http://commons.wikimedia.org/wiki/Special:FilePath/1992-1996%20Eunos%20500%20sedan%2001.jpg', 'brandLabel': 'Eunos'}]\n"
     ]
    }
   ],
   "source": [
    "import csv\n",
    "\n",
    "input_file = './images/Voitures/Voitures.csv'\n",
    "planets = []\n",
    "with open(input_file, encoding='UTF-8') as f:\n",
    "    rows = csv.reader(f,delimiter=\",\",lineterminator=\"\\n\")\n",
    "    next(rows, None)\n",
    "    for row in rows:\n",
    "        planet = {}\n",
    "        planet['carLabel'] = row[0]\n",
    "        planet['carLabel'] = planet['carLabel'].replace(\" \", \"_\")\n",
    "        planet['carLabel'] = planet['carLabel'].replace(\"/\", \"_\")\n",
    "        planet['image_path'] = row[1]\n",
    "        planet['brandLabel'] = row[2]\n",
    "        planet['brandLabel'] = planet['brandLabel'].replace(\" \", \"_\")\n",
    "        planet['brandLabel'] = planet['brandLabel'].replace(\"/\", \"_\")\n",
    "        planets.append(planet)\n",
    "print(planets[0:5])"
   ]
  },
  {
   "cell_type": "code",
   "execution_count": 5,
   "metadata": {},
   "outputs": [],
   "source": [
    "import requests\n",
    "\n",
    "def download_image(thing):\n",
    "    r = requests.get(str(thing[\"image_path\"]), allow_redirects=True)\n",
    "    with open(f\"./images/Voitures/{planet['carLabel']}.jpg\", \"wb+\") as f:\n",
    "        f.write(r.content)\n",
    "\n",
    "for planet in planets:\n",
    "    download_image(planet)"
   ]
  }
 ],
 "metadata": {
  "kernelspec": {
   "display_name": "Python 3",
   "language": "python",
   "name": "python3"
  },
  "language_info": {
   "codemirror_mode": {
    "name": "ipython",
    "version": 3
   },
   "file_extension": ".py",
   "mimetype": "text/x-python",
   "name": "python",
   "nbconvert_exporter": "python",
   "pygments_lexer": "ipython3",
   "version": "3.10.9"
  },
  "orig_nbformat": 4,
  "vscode": {
   "interpreter": {
    "hash": "b460384b52104c1e5b9cf54bee46a255d22b2bef338f75ac4ad5d48196028d3c"
   }
  }
 },
 "nbformat": 4,
 "nbformat_minor": 2
}
