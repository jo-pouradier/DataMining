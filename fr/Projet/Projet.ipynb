{
 "cells": [
  {
   "attachments": {},
   "cell_type": "markdown",
   "metadata": {},
   "source": [
    "# <u> Projet de système de recommandation </u>"
   ]
  },
  {
   "attachments": {},
   "cell_type": "markdown",
   "metadata": {},
   "source": [
    "## téléchargement des images"
   ]
  },
  {
   "cell_type": "code",
   "execution_count": 15,
   "metadata": {},
   "outputs": [
    {
     "name": "stdout",
     "output_type": "stream",
     "text": [
      "[{'carLabel': 'Porsche_Type_12', 'image_path': 'http://commons.wikimedia.org/wiki/Special:FilePath/Porsche%20typ12.jpg', 'brandLabel': 'Porsche'}, {'carLabel': 'Peugeot_Rifter', 'image_path': 'http://commons.wikimedia.org/wiki/Special:FilePath/2018%20Peugeot%20Rifter%20Allure%20BlueHDi%201.6%20Front.jpg', 'brandLabel': 'Peugeot'}, {'carLabel': 'Mercedes_Grand-Prix', 'image_path': 'http://commons.wikimedia.org/wiki/Special:FilePath/Mercedes-GP-Wagen%20von%201914%20am%201977-08-14.jpg', 'brandLabel': 'Mercedes-Benz'}, {'carLabel': 'DKW_F1000L', 'image_path': 'http://commons.wikimedia.org/wiki/Special:FilePath/Mercedes-Benz%20N1300.jpg', 'brandLabel': 'Mercedes-Benz'}, {'carLabel': 'Eunos_500', 'image_path': 'http://commons.wikimedia.org/wiki/Special:FilePath/1992-1996%20Eunos%20500%20sedan%2001.jpg', 'brandLabel': 'Eunos'}]\n"
     ]
    }
   ],
   "source": [
    "import csv\n",
    "\n",
    "# input_file = './images/Voitures/Voitures.csv'\n",
    "# planets = []\n",
    "# with open(input_file, encoding='UTF-8') as f:\n",
    "#     rows = csv.reader(f,delimiter=\",\",lineterminator=\"\\n\")\n",
    "#     next(rows, None)\n",
    "#     for row in rows:\n",
    "#         planet = {}\n",
    "#         planet['carLabel'] = row[0]\n",
    "#         planet['carLabel'] = planet['carLabel'].replace(\" \", \"_\")\n",
    "#         planet['carLabel'] = planet['carLabel'].replace(\"/\", \"_\")\n",
    "#         planet['image_path'] = row[1]\n",
    "#         planet['brandLabel'] = row[2]\n",
    "#         planet['brandLabel'] = planet['brandLabel'].replace(\" \", \"_\")\n",
    "#         planet['brandLabel'] = planet['brandLabel'].replace(\"/\", \"_\")\n",
    "#         planets.append(planet)\n",
    "# print(planets[0:5])"
   ]
  },
  {
   "cell_type": "code",
   "execution_count": 16,
   "metadata": {},
   "outputs": [],
   "source": [
    "import requests\n",
    "import shutil\n",
    "\n",
    "# def download_image(thing):\n",
    "#     r = requests.get(str(thing[\"image_path\"]), allow_redirects=True, stream=True)\n",
    "#     with open(f\"./images/Moto/{planet['motorcycleLabel']}.jpg\", \"wb+\") as f:\n",
    "#         f.write(r.content)\n",
    "\n",
    "# for planet in planets:\n",
    "#     download_image(planet)\n",
    "\n",
    "# def download_image(thing):\n",
    "\n",
    "#     headers = {\"User-Agent\": \"Mozilla/5.0\"}\n",
    "#     request = requests.get(thing[\"image_path\"], allow_redirects=True, headers=headers, stream=True)\n",
    "#     if request.status_code == 200:\n",
    "#         with open(f\"./images/Voitures/{thing['carLabel']}.jpg\", \"wb+\") as f:\n",
    "#             request.raw.decode_content = True\n",
    "#             shutil.copyfileobj(request.raw, f)\n",
    "\n",
    "\n",
    "# for thing in planets:\n",
    "#     download_image(thing)"
   ]
  },
  {
   "cell_type": "code",
   "execution_count": 17,
   "metadata": {},
   "outputs": [
    {
     "name": "stdout",
     "output_type": "stream",
     "text": [
      "[{'exoplanetLabel': 'Kepler-10b', 'image_path': 'http://commons.wikimedia.org/wiki/Special:FilePath/Kepler10b%20artist.jpg', 'constellationdLabel': 'Dragon'}, {'exoplanetLabel': 'Kepler-22b', 'image_path': 'http://commons.wikimedia.org/wiki/Special:FilePath/Kepler-22%20diagram.jpg', 'constellationdLabel': 'Cygne'}, {'exoplanetLabel': 'Kepler-9b', 'image_path': 'http://commons.wikimedia.org/wiki/Special:FilePath/Kepler-9b%2C%20Jupiter%20size%20comparison.jpg', 'constellationdLabel': 'Lyre'}, {'exoplanetLabel': '55_Cancri_f', 'image_path': 'http://commons.wikimedia.org/wiki/Special:FilePath/Artist%27s%20concept%20shows%20four%20of%20the%20five%20planets%20that%20orbit%2055%20Cancri%2C%20a%20star%20much%20like%20our%20own.jpg', 'constellationdLabel': 'Cancer'}, {'exoplanetLabel': '55_Cancri_b', 'image_path': 'http://commons.wikimedia.org/wiki/Special:FilePath/55%20Rho%20Cancri%201%20b.png', 'constellationdLabel': 'Cancer'}]\n"
     ]
    }
   ],
   "source": [
    "# input_file = './images/Exoplanet/exoplanet.csv'\n",
    "# planets = []\n",
    "# with open(input_file, encoding='UTF-8') as f:\n",
    "#     rows = csv.reader(f,delimiter=\",\",lineterminator=\"\\n\")\n",
    "#     next(rows, None)\n",
    "#     for row in rows:\n",
    "#         planet = {}\n",
    "#         planet['exoplanetLabel'] = row[0]\n",
    "#         planet['exoplanetLabel'] = planet['exoplanetLabel'].replace(\" \", \"_\")\n",
    "#         planet['exoplanetLabel'] = planet['exoplanetLabel'].replace(\"/\", \"_\")\n",
    "#         planet['image_path'] = row[1]\n",
    "#         planet['constellationdLabel'] = row[2]\n",
    "#         planet['constellationdLabel'] = planet['constellationdLabel'].replace(\" \", \"_\")\n",
    "#         planet['constellationdLabel'] = planet['constellationdLabel'].replace(\"/\", \"_\")\n",
    "#         planets.append(planet)\n",
    "# print(planets[0:5])"
   ]
  },
  {
   "cell_type": "code",
   "execution_count": null,
   "metadata": {},
   "outputs": [],
   "source": [
    "# def download_image2(thing):\n",
    "\n",
    "#     headers = {\"User-Agent\": \"Mozilla/5.0\"}\n",
    "#     request = requests.get(thing[\"image_path\"], allow_redirects=True, headers=headers, stream=True)\n",
    "#     if request.status_code == 200:\n",
    "#         with open(f\"./images/Exoplanet/{thing['exoplanetLabel']}.jpg\", \"wb+\") as f:\n",
    "#             request.raw.decode_content = True\n",
    "#             shutil.copyfileobj(request.raw, f)\n",
    "        \n",
    "# for thing in planets:\n",
    "#     download_image2(thing)\n"
   ]
  },
  {
   "attachments": {},
   "cell_type": "markdown",
   "metadata": {},
   "source": [
    "# Enregistrement des métadonnées de chaque image dans un fichier JSON"
   ]
  },
  {
   "cell_type": "code",
   "execution_count": 21,
   "metadata": {},
   "outputs": [
    {
     "name": "stdout",
     "output_type": "stream",
     "text": [
      "['55_Cancri_b.jpg', 'Gliese_876_e.jpg', 'XO-3b.jpg', 'OGLE-2005-BLG-169Lb.jpg', 'Kepler-242b.jpg']\n",
      "360\n"
     ]
    }
   ],
   "source": [
    "# finding all the images in the folder ./images\n",
    "import os\n",
    "\n",
    "def get_images(path):\n",
    "    images = []\n",
    "    for file in os.listdir(path):\n",
    "        if os.path.isdir(f'{path}/{file}'):\n",
    "            images.extend(get_images(f'{path}/{file}'))\n",
    "        if file.endswith(\".jpg\"):\n",
    "            images.append(file)\n",
    "    return images\n",
    "\n",
    "images_path = \"./images\"\n",
    "images = get_images(images_path)\n",
    "print(images[0:5])\n",
    "print(len(images))"
   ]
  }
 ],
 "metadata": {
  "kernelspec": {
   "display_name": "Python 3",
   "language": "python",
   "name": "python3"
  },
  "language_info": {
   "codemirror_mode": {
    "name": "ipython",
    "version": 3
   },
   "file_extension": ".py",
   "mimetype": "text/x-python",
   "name": "python",
   "nbconvert_exporter": "python",
   "pygments_lexer": "ipython3",
   "version": "3.10.9"
  },
  "orig_nbformat": 4,
  "vscode": {
   "interpreter": {
    "hash": "b460384b52104c1e5b9cf54bee46a255d22b2bef338f75ac4ad5d48196028d3c"
   }
  }
 },
 "nbformat": 4,
 "nbformat_minor": 2
}
