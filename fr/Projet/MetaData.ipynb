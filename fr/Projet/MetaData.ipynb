{
 "cells": [
  {
   "attachments": {},
   "cell_type": "markdown",
   "metadata": {},
   "source": [
    "# Reanding Exif data from ./images"
   ]
  },
  {
   "cell_type": "code",
   "execution_count": 16,
   "metadata": {},
   "outputs": [
    {
     "name": "stdout",
     "output_type": "stream",
     "text": [
      "Exoplanet\n",
      "Pokemon\n",
      "Moto\n",
      "Voitures\n",
      "[{'theme': 'Exoplanet', 'image': '55_Cancri_b.jpg', 'width': 1024, 'height': 768, 'format': 'PNG', 'orientation': 'no exif'}, {'theme': 'Exoplanet', 'image': 'Gliese_876_e.jpg', 'width': 1587, 'height': 919, 'format': 'PNG', 'orientation': 'no exif'}, {'theme': 'Exoplanet', 'image': 'XO-3b.jpg', 'width': 800, 'height': 500, 'format': 'JPEG', 'orientation': 'no exif'}, {'theme': 'Exoplanet', 'image': 'OGLE-2005-BLG-169Lb.jpg', 'width': 1271, 'height': 746, 'format': 'JPEG', 'orientation': 'no exif'}, {'theme': 'Exoplanet', 'image': 'Kepler-242b.jpg', 'width': 1980, 'height': 1200, 'format': 'JPEG', 'orientation': 'no exif'}]\n"
     ]
    }
   ],
   "source": [
    "import os\n",
    "from PIL import Image\n",
    "\n",
    "dir = \"images\"\n",
    "themes = os.listdir(dir)\n",
    "data = []\n",
    "\n",
    "for theme in themes: \n",
    "    if theme in {\".DS_Store\", \"ExifData.json\",\"ExifData2.json\",\"ExifDatatest.json\"}:\n",
    "        pass   \n",
    "    else:\n",
    "        print(theme)\n",
    "        dir_test = os.path.join(dir, theme)\n",
    "        for image in os.listdir(dir_test):\n",
    "            #print(image)\n",
    "            if image.endswith(\".jpg\") :\n",
    "                #img_path =  dir + theme + '/'+ image\n",
    "                img_path = os.path.join(dir, theme, image)\n",
    "                # print(img_path)\n",
    "                with Image.open(img_path) as img:\n",
    "                    # print(img)\n",
    "                    width, height = img.size\n",
    "                    format = img.format\n",
    "                    try:\n",
    "                        orientation = img._getexif()[274]\n",
    "                    except:\n",
    "                        orientation = \"no exif\"\n",
    "                    #print(f'{width=}x{height=} {format=} {orientation=}')\n",
    "                    data.append({\"theme\": theme, \"image\": image, \"width\": width, \"height\": height, \"format\": format, \"orientation\": orientation})\n",
    "                    \n",
    "print(data[0:5])"
   ]
  },
  {
   "attachments": {},
   "cell_type": "markdown",
   "metadata": {},
   "source": [
    "## Get proiminant colors from images"
   ]
  },
  {
   "cell_type": "code",
   "execution_count": 2,
   "metadata": {},
   "outputs": [
    {
     "data": {
      "text/plain": [
       "['#0c0d0f', '#a39284', '#4d4035', '#806956', '#1f2124']"
      ]
     },
     "execution_count": 2,
     "metadata": {},
     "output_type": "execute_result"
    }
   ],
   "source": [
    "from PIL import Image\n",
    "import warnings\n",
    "import numpy\n",
    "import math\n",
    "import matplotlib.pyplot as plot\n",
    "from sklearn.cluster import MiniBatchKMeans\n",
    "\n",
    "def getKmeans(img):\n",
    "    # init\n",
    "    img = Image.open(img) # open image\n",
    "    imgfile = img.resize((int(img.size[0]/5), int(img.size[1]/5))) # resize\n",
    "    numarray = numpy.array(imgfile.getdata(), numpy.uint8) # convert image to numpy array\n",
    "    cluster_count = 5 # number of clusters\n",
    "    clusters = MiniBatchKMeans(n_clusters=cluster_count, n_init=\"auto\") # init kmeans\n",
    "    clusters.fit(numarray) # fit kmeans\n",
    "    npbins = numpy.arange(0, cluster_count + 1) # init bins\n",
    "    histogram = numpy.histogram(clusters.labels_, bins=npbins) # get histogram\n",
    "    #labels = numpy.unique(clusters.labels_) # get labels\n",
    "\n",
    "    # getting colors\n",
    "    color = []\n",
    "    for i in range(cluster_count):\n",
    "        color.append(\n",
    "            \"#%02x%02x%02x\" % (math.ceil(clusters.cluster_centers_[i][0]),math.ceil(clusters.cluster_centers_[i][1]),math.ceil(clusters.cluster_centers_[i][2]),)\n",
    "        )\n",
    "    #barlist = plot.bar(labels, sorted(histogram[0], reverse=True), color=color)\n",
    "    #plot.show()\n",
    "    return (color)\n",
    "\n",
    "getKmeans(\"./images/Exoplanet/2M1207_b.jpg\")"
   ]
  },
  {
   "attachments": {},
   "cell_type": "markdown",
   "metadata": {},
   "source": [
    "## Getting histogram from images"
   ]
  },
  {
   "cell_type": "code",
   "execution_count": 18,
   "metadata": {},
   "outputs": [
    {
     "data": {
      "text/plain": [
       "{'red': 44.77778330018979,\n",
       " 'green': 41.671026930561624,\n",
       " 'blue': 39.357752621028695}"
      ]
     },
     "execution_count": 18,
     "metadata": {},
     "output_type": "execute_result"
    }
   ],
   "source": [
    "from PIL import Image\n",
    "import matplotlib.pyplot as plot\n",
    "import numpy as np\n",
    "\n",
    "def getDiagram(img):\n",
    "    imgfile = Image.open(img)\n",
    "    histogram = imgfile.histogram()\n",
    "    red = histogram[0:255]\n",
    "    green = histogram[256:511]\n",
    "    blue = histogram[512:767]\n",
    "    # x = range(255)\n",
    "    # y = []\n",
    "    # for i in x:\n",
    "    #     y.append((red[i], green[i], blue[i]))\n",
    "    # figure,axes = plot.subplots()\n",
    "    # axes.set_prop_cycle(\"color\", [\"red\", \"green\", \"blue\"])\n",
    "    # plot.plot(x, y)\n",
    "    # plot.show()\n",
    "    mapping = {\"red\": np.average(range(0,255),weights=red), \"green\": np.average(range(0,255),weights=green), \"blue\": np.average(range(0,255),weights=blue)}\n",
    "    return mapping\n",
    "\n",
    "getDiagram(\"./images/Exoplanet/2M1207_b.jpg\")"
   ]
  },
  {
   "attachments": {},
   "cell_type": "markdown",
   "metadata": {},
   "source": [
    "## Adding diagram and Kmeans to exif data"
   ]
  },
  {
   "cell_type": "code",
   "execution_count": 3,
   "metadata": {},
   "outputs": [
    {
     "ename": "NameError",
     "evalue": "name 'data' is not defined",
     "output_type": "error",
     "traceback": [
      "\u001b[1;31m---------------------------------------------------------------------------\u001b[0m",
      "\u001b[1;31mNameError\u001b[0m                                 Traceback (most recent call last)",
      "Cell \u001b[1;32mIn[3], line 1\u001b[0m\n\u001b[1;32m----> 1\u001b[0m \u001b[39mfor\u001b[39;00m obj \u001b[39min\u001b[39;00m data:\n\u001b[0;32m      2\u001b[0m     \u001b[39mdir\u001b[39m \u001b[39m=\u001b[39m os\u001b[39m.\u001b[39mpath\u001b[39m.\u001b[39mjoin(\u001b[39m\"\u001b[39m\u001b[39mimages\u001b[39m\u001b[39m\"\u001b[39m, obj[\u001b[39m\"\u001b[39m\u001b[39mtheme\u001b[39m\u001b[39m\"\u001b[39m], obj[\u001b[39m\"\u001b[39m\u001b[39mimage\u001b[39m\u001b[39m\"\u001b[39m])\n\u001b[0;32m      3\u001b[0m     \u001b[39mprint\u001b[39m(\u001b[39mdir\u001b[39m)\n",
      "\u001b[1;31mNameError\u001b[0m: name 'data' is not defined"
     ]
    }
   ],
   "source": [
    "for obj in data:\n",
    "    dir = os.path.join(\"images\", obj[\"theme\"], obj[\"image\"])\n",
    "    print(dir)\n",
    "    colors = getKmeans(dir)\n",
    "    for i, c in enumerate(colors):\n",
    "        obj[\"color_{i}\"] = c\n",
    "    RGB = getDiagram(dir)\n",
    "    for key, value in RGB.items():\n",
    "        obj[key] = value"
   ]
  },
  {
   "attachments": {},
   "cell_type": "markdown",
   "metadata": {},
   "source": [
    "## Writing exif data into json file : ./images/ExifData.json"
   ]
  },
  {
   "cell_type": "code",
   "execution_count": 20,
   "metadata": {},
   "outputs": [],
   "source": [
    "import json\n",
    "from numpyencoder import NumpyEncoder\n",
    "\n",
    "with open('./images/ExifDatatest.json', 'w+') as f:\n",
    "    json.dump(data, f, indent=4, cls=NumpyEncoder)"
   ]
  }
 ],
 "metadata": {
  "kernelspec": {
   "display_name": "Python 3",
   "language": "python",
   "name": "python3"
  },
  "language_info": {
   "codemirror_mode": {
    "name": "ipython",
    "version": 3
   },
   "file_extension": ".py",
   "mimetype": "text/x-python",
   "name": "python",
   "nbconvert_exporter": "python",
   "pygments_lexer": "ipython3",
   "version": "3.11.0"
  },
  "orig_nbformat": 4,
  "vscode": {
   "interpreter": {
    "hash": "c261aea317cc0286b3b3261fbba9abdec21eaa57589985bb7a274bf54d6cc0a7"
   }
  }
 },
 "nbformat": 4,
 "nbformat_minor": 2
}
