{
 "cells": [
  {
   "attachments": {},
   "cell_type": "markdown",
   "metadata": {},
   "source": [
    "# Reanding Exif data from ./images"
   ]
  },
  {
   "cell_type": "code",
   "execution_count": null,
   "metadata": {},
   "outputs": [],
   "source": [
    "import os\n",
    "from PIL import Image\n",
    "\n",
    "dir = r\"images/\"\n",
    "themes = os.listdir(dir)\n",
    "data = []\n",
    "\n",
    "for theme in themes: \n",
    "    if theme in {\".DS_Store\", \"ExifData.json\"}:\n",
    "        pass   \n",
    "    else:\n",
    "        print(theme)\n",
    "        for image in os.listdir(dir + theme):\n",
    "            #print(image)\n",
    "            if image.endswith(\".jpg\") :\n",
    "                img_path =  dir + theme + '/'+ image\n",
    "                # print(img_path)\n",
    "                with Image.open(img_path) as img:\n",
    "                    # print(img)\n",
    "                    width, height = img.size\n",
    "                    format = img.format\n",
    "                    try:\n",
    "                        orientation = img._getexif()[274]\n",
    "                    except:\n",
    "                        orientation = \"no exif\"\n",
    "                    #print(f'{width=}x{height=} {format=} {orientation=}')\n",
    "                    data.append({\"theme\": theme, \"image\": image, \"width\": width, \"height\": height, \"format\": format, \"orientation\": orientation})\n",
    "                    \n",
    "print(data[0:5])"
   ]
  },
  {
   "attachments": {},
   "cell_type": "markdown",
   "metadata": {},
   "source": [
    "## Get proiminant colors from images"
   ]
  },
  {
   "cell_type": "code",
   "execution_count": null,
   "metadata": {},
   "outputs": [],
   "source": [
    "from PIL import Image\n",
    "import warnings\n",
    "import numpy\n",
    "import math\n",
    "import matplotlib.pyplot as plot\n",
    "from sklearn.cluster import MiniBatchKMeans\n",
    "\n",
    "def getKmeans(img):\n",
    "    # init\n",
    "    img = Image.open(img) # open image\n",
    "    imgfile = img.resize((int(img.size[0]/5), int(img.size[1]/5))) # resize\n",
    "    numarray = numpy.array(imgfile.getdata(), numpy.uint8) # convert image to numpy array\n",
    "    cluster_count = 5 # number of clusters\n",
    "    clusters = MiniBatchKMeans(n_clusters=cluster_count, n_init=\"auto\") # init kmeans\n",
    "    clusters.fit(numarray) # fit kmeans\n",
    "    npbins = numpy.arange(0, cluster_count + 1) # init bins\n",
    "    histogram = numpy.histogram(clusters.labels_, bins=npbins) # get histogram\n",
    "    #labels = numpy.unique(clusters.labels_) # get labels\n",
    "\n",
    "    # getting colors\n",
    "    color = []\n",
    "    for i in range(cluster_count):\n",
    "        color.append(\n",
    "            \"#%02x%02x%02x\" % (math.ceil(clusters.cluster_centers_[i][0]),math.ceil(clusters.cluster_centers_[i][1]),math.ceil(clusters.cluster_centers_[i][2]),)\n",
    "        )\n",
    "    #barlist = plot.bar(labels, sorted(histogram[0], reverse=True), color=color)\n",
    "    #plot.show()\n",
    "    mapping = {\"numbers\": sorted(histogram[0], reverse=True), \"colors\": color}\n",
    "    return (mapping)\n",
    "\n",
    "getKmeans(\"./images/Exoplanet/2M1207_b.jpg\")"
   ]
  },
  {
   "attachments": {},
   "cell_type": "markdown",
   "metadata": {},
   "source": [
    "## Getting histogram from images"
   ]
  },
  {
   "cell_type": "code",
   "execution_count": null,
   "metadata": {},
   "outputs": [],
   "source": [
    "from PIL import Image\n",
    "import matplotlib.pyplot as plot\n",
    "import numpy as np\n",
    "\n",
    "\n",
    "def getDiagram(img):\n",
    "    imgfile = Image.open(\"./images/Exoplanet/2M1207_b.jpg\")\n",
    "    histogram = imgfile.histogram()\n",
    "    red = histogram[0:255]\n",
    "    green = histogram[256:511]\n",
    "    blue = histogram[512:767]\n",
    "    # x = range(255)\n",
    "    # y = []\n",
    "    # for i in x:\n",
    "    #     y.append((red[i], green[i], blue[i]))\n",
    "    # figure,axes = plot.subplots()\n",
    "    # axes.set_prop_cycle(\"color\", [\"red\", \"green\", \"blue\"])\n",
    "    # plot.plot(x, y)\n",
    "    # plot.show()\n",
    "    mapping = {\"red\": np.mean(red), \"green\": np.mean(green), \"blue\": np.mean(blue)}\n",
    "    return mapping\n",
    "\n",
    "getDiagram(\"./images/Exoplanet/2M1207_b.jpg\")"
   ]
  },
  {
   "attachments": {},
   "cell_type": "markdown",
   "metadata": {},
   "source": [
    "## Adding diagram and Kmeans to exif data"
   ]
  },
  {
   "cell_type": "code",
   "execution_count": null,
   "metadata": {},
   "outputs": [],
   "source": [
    "for obj in data:\n",
    "    print(obj[\"image\"])\n",
    "    obj[\"kmeans\"] = getKmeans(dir + obj[\"theme\"] + '/' + obj[\"image\"])\n",
    "    obj[\"diagram\"] = getDiagram(dir + obj[\"theme\"] + '/' + obj[\"image\"])"
   ]
  },
  {
   "attachments": {},
   "cell_type": "markdown",
   "metadata": {},
   "source": [
    "## Writing exif data into json file : ./images/ExifData.json"
   ]
  },
  {
   "cell_type": "code",
   "execution_count": null,
   "metadata": {},
   "outputs": [],
   "source": [
    "import json\n",
    "from numpyencoder import NumpyEncoder\n",
    "\n",
    "with open('./images/ExifData2.json', 'w') as f:\n",
    "    json.dump(data, f, indent=4, cls=NumpyEncoder)"
   ]
  }
 ],
 "metadata": {
  "kernelspec": {
   "display_name": "Python 3",
   "language": "python",
   "name": "python3"
  },
  "language_info": {
   "codemirror_mode": {
    "name": "ipython",
    "version": 3
   },
   "file_extension": ".py",
   "mimetype": "text/x-python",
   "name": "python",
   "nbconvert_exporter": "python",
   "pygments_lexer": "ipython3",
   "version": "3.10.9"
  },
  "orig_nbformat": 4,
  "vscode": {
   "interpreter": {
    "hash": "b460384b52104c1e5b9cf54bee46a255d22b2bef338f75ac4ad5d48196028d3c"
   }
  }
 },
 "nbformat": 4,
 "nbformat_minor": 2
}
